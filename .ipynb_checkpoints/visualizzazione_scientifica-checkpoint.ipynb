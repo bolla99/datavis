{
 "cells": [
  {
   "cell_type": "code",
   "execution_count": 9,
   "id": "px8BjgNMs-sP",
   "metadata": {
    "colab": {
     "base_uri": "https://localhost:8080/"
    },
    "executionInfo": {
     "elapsed": 3377,
     "status": "ok",
     "timestamp": 1666610168766,
     "user": {
      "displayName": "Giovanni Bollati",
      "userId": "02578738299710623447"
     },
     "user_tz": -120
    },
    "id": "px8BjgNMs-sP",
    "outputId": "2bba27e9-6723-4c78-b874-5b03afaf4093"
   },
   "outputs": [],
   "source": [
    "import pandas as pd\n",
    "from IPython.display import display, Markdown, clear_output\n",
    "import ipywidgets as widgets\n",
    "import numpy as np\n",
    "import matplotlib.pyplot as plt\n",
    "\n",
    "#from google.colab import drive\n",
    "#drive.mount('/content/drive/')"
   ]
  },
  {
   "cell_type": "code",
   "execution_count": 5,
   "id": "X8Z_1q2otk_v",
   "metadata": {
    "executionInfo": {
     "elapsed": 631,
     "status": "ok",
     "timestamp": 1666610257240,
     "user": {
      "displayName": "Giovanni Bollati",
      "userId": "02578738299710623447"
     },
     "user_tz": -120
    },
    "id": "X8Z_1q2otk_v"
   },
   "outputs": [],
   "source": [
    "# if colab\n",
    "data_dir = '/content/drive/MyDrive/datavis/'\n",
    "# if jupyter\n",
    "data_dir = './'"
   ]
  },
  {
   "cell_type": "raw",
   "id": "1b47b2c6",
   "metadata": {},
   "source": []
  },
  {
   "cell_type": "code",
   "execution_count": 56,
   "id": "02ed8dae",
   "metadata": {},
   "outputs": [],
   "source": [
    "# setup csv file\n",
    "\n",
    "# read csv\n",
    "csv = pd.read_csv(data_dir + 'women_in_parliament.csv')\n",
    "\n",
    "# drop columns\n",
    "csv = csv.drop('Last Election Date', axis=1)\n",
    "csv = csv.drop('Last Election Date footnote', axis=1)\n",
    "csv = csv.drop('Series', axis=1)\n",
    "csv = csv.drop('Footnotes', axis=1)\n",
    "csv = csv.drop('Source', axis=1)\n",
    "\n",
    "# pivot (from long to wide)\n",
    "csv = pd.pivot(csv, index='Region', columns='Year', values='Value')\n",
    "years = csv.columns\n",
    "# array of years\n",
    "years = years.to_numpy()"
   ]
  },
  {
   "cell_type": "code",
   "execution_count": 58,
   "id": "8a5939f5",
   "metadata": {},
   "outputs": [
    {
     "data": {
      "text/plain": [
       "array([[11.1, 11.5, 21.3, 31. , 31. , 35.7, 35.7, 35.7, 36.3]])"
      ]
     },
     "execution_count": 58,
     "metadata": {},
     "output_type": "execute_result"
    }
   ],
   "source": [
    "def getRegion(csv, region):\n",
    "    region_line = csv[csv.index == region]\n",
    "    return region_line.to_numpy()\n",
    "\n",
    "getRegion(csv, 'Italy')"
   ]
  },
  {
   "cell_type": "code",
   "execution_count": 63,
   "id": "334562cb",
   "metadata": {
    "id": "334562cb",
    "outputId": "fbdb5845-924b-4565-b83d-20a6e374cd70"
   },
   "outputs": [
    {
     "data": {
      "image/png": "[encoded data removed]",
      "text/plain": [
       "<Figure size 640x480 with 1 Axes>"
      ]
     },
     "metadata": {},
     "output_type": "display_data"
    }
   ],
   "source": [
    "plt.plot(years, getRegion(csv, 'Italy')[0,:], label='Italy')\n",
    "plt.legend()\n",
    "\n",
    "#plt.subplot(122)\n",
    "#for i in range(4):\n",
    "#  plt.plot(europe[])\n",
    "#\n",
    "plt.show()"
   ]
  },
  {
   "cell_type": "code",
   "execution_count": null,
   "id": "09ea4834",
   "metadata": {
    "id": "09ea4834"
   },
   "outputs": [],
   "source": [
    "plt"
   ]
  }
 ],
 "metadata": {
  "colab": {
   "collapsed_sections": [],
   "provenance": []
  },
  "kernelspec": {
   "display_name": "Python 3 (ipykernel)",
   "language": "python",
   "name": "python3"
  },
  "language_info": {
   "codemirror_mode": {
    "name": "ipython",
    "version": 3
   },
   "file_extension": ".py",
   "mimetype": "text/x-python",
   "name": "python",
   "nbconvert_exporter": "python",
   "pygments_lexer": "ipython3",
   "version": "3.8.8"
  }
 },
 "nbformat": 4,
 "nbformat_minor": 5
}
